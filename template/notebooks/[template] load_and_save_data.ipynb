{
 "cells": [
  {
   "cell_type": "markdown",
   "id": "a0db8749",
   "metadata": {},
   "source": [
    "<div class=\"alert alert-danger\" role=\"alert\">\n",
    "    <span style=\"font-size:20px\">&#9888;</span> <span style=\"font-size:16px\">This is a read-only notebook! If you want to make and save changes, save a copy by clicking on <b>File</b> &#8594; <b>Save a copy</b>. If this is already a copy, you can delete this cell.</span>\n",
    "</div>"
   ]
  },
  {
   "cell_type": "markdown",
   "id": "e1251103",
   "metadata": {},
   "source": [
    "# Loading (and saving) data from frequently used sources\n",
    "\n",
    "This Jupyter Notebook provides examples of how to read in data from a variety of frequently used data-types, as well as how to save the datasets into said file-types. \n",
    "\n",
    "This Notebook provides examples for the most common use-cases, requiring only pandas and openpyxl to be installed (for Excel). Another notebook will be created for more advanced data formats, often requiring other packages. The data formats listed in 'red' below, will be covered in a future 'advanced' Notebook\n",
    "\n",
    "For tabular data, we will use the functionality pandas out of the box, for tabular data stored in: \n",
    "* <a href=\"#csv\">csv</a>, <a href=\"#txt\">txt</a>, <a href=\"#excel\">Excel</a>, <font color='red'>SQL</font>, <font color='red'>parquet</font>\n",
    "\n",
    "Some of these are enhanced through additional libraries that need to be installed (that pandas relies on). More information is provided in the corresponding section.\n",
    "\n",
    "Configurations are often stored in formats suitable to be read into Dictionaries, and common file types include:\n",
    "\n",
    "* <a href=\"#json\">json</a>, <font color='red'>yaml</font>\n",
    "\n",
    "Lastly, to load and save more complicates objects, Python provides additional serialization options such as:\n",
    "\n",
    "* <a href=\"#pickle\">pickle</a>, <font color='red'>pmml (e.g. for cross-platform ML models)</font>"
   ]
  },
  {
   "cell_type": "markdown",
   "id": "0d07fa11",
   "metadata": {},
   "source": [
    "**Note: When pandas will automatically attempt to detect the data type in each column. If the data has a large number of rows, pandas will throw a warning, and you can set 'low_memory=False' to tell pandas to read in the entire file before determining the data type, or you can manually specify data type using the dtype. See the tips and tricks section of this Notebook**"
   ]
  },
  {
   "cell_type": "markdown",
   "id": "6196698a",
   "metadata": {},
   "source": [
    "<h1>Table of Contents<span class=\"tocSkip\"></span></h1>\n",
    "<ul class=\"toc-item\"><li><span><a href=\"#Loading-(and-saving)-data-from-frequently-used-sources\" data-toc-modified-id=\"Loading-(and-saving)-data-from-frequently-used-sources-1\"><span class=\"toc-item-num\">1&nbsp;&nbsp;</span>Loading (and saving) data from frequently used sources</a></span></li><li><span><a href=\"#Load-and-Save-CSV-data\" data-toc-modified-id=\"Load-and-Save-CSV-data-2\"><span class=\"toc-item-num\">2&nbsp;&nbsp;</span>Load and Save CSV data</a></span></li><li><span><a href=\"#Load-and-Save-TXT-data\" data-toc-modified-id=\"Load-and-Save-TXT-data-3\"><span class=\"toc-item-num\">3&nbsp;&nbsp;</span>Load and Save TXT data</a></span></li><li><span><a href=\"#Load-and-Save-Excel-data\" data-toc-modified-id=\"Load-and-Save-Excel-data-4\"><span class=\"toc-item-num\">4&nbsp;&nbsp;</span>Load and Save Excel data</a></span></li><li><span><a href=\"#Read-and-write-from-json\" data-toc-modified-id=\"Read-and-write-from-json-5\"><span class=\"toc-item-num\">5&nbsp;&nbsp;</span>Read and write from json</a></span></li><li><span><a href=\"#Read-and-write-a-pickle-file\" data-toc-modified-id=\"Read-and-write-a-pickle-file-6\"><span class=\"toc-item-num\">6&nbsp;&nbsp;</span>Read and write a pickle file</a></span></li><li><span><a href=\"#Tips-and-Tricks\" data-toc-modified-id=\"Tips-and-Tricks-7\"><span class=\"toc-item-num\">7&nbsp;&nbsp;</span>Tips and Tricks</a></span><ul class=\"toc-item\"><li><span><a href=\"#Get-the-latest-file-within-a-folder-based-on-time-stamp\" data-toc-modified-id=\"Get-the-latest-file-within-a-folder-based-on-time-stamp-7.1\"><span class=\"toc-item-num\">7.1&nbsp;&nbsp;</span>Get the latest file within a folder based on time-stamp</a></span></li><li><span><a href=\"#Selecting-which-characters-that-pandas-should-detect-as-Missing\" data-toc-modified-id=\"Selecting-which-characters-that-pandas-should-detect-as-Missing-7.2\"><span class=\"toc-item-num\">7.2&nbsp;&nbsp;</span>Selecting which characters that pandas should detect as Missing</a></span></li><li><span><a href=\"#Using-dtype-and-parse_dates-to-specify-data-type-of-each-column\" data-toc-modified-id=\"Using-dtype-and-parse_dates-to-specify-data-type-of-each-column-7.3\"><span class=\"toc-item-num\">7.3&nbsp;&nbsp;</span>Using dtype and parse_dates to specify data type of each column</a></span></li><li><span><a href=\"#Using-dtype-=-object-to-avoid-any-data-casting-by-pandas\" data-toc-modified-id=\"Using-dtype-=-object-to-avoid-any-data-casting-by-pandas-7.4\"><span class=\"toc-item-num\">7.4&nbsp;&nbsp;</span>Using dtype = object to avoid any data casting by pandas</a></span></li><li><span><a href=\"#Reading-csv-from-URLs\" data-toc-modified-id=\"Reading-csv-from-URLs-7.5\"><span class=\"toc-item-num\">7.5&nbsp;&nbsp;</span>Reading csv from URLs</a></span></li><li><span><a href=\"#Reading-tables-from-HTML\" data-toc-modified-id=\"Reading-tables-from-HTML-7.6\"><span class=\"toc-item-num\">7.6&nbsp;&nbsp;</span>Reading tables from HTML</a></span></li></ul></li></ul>"
   ]
  },
  {
   "cell_type": "markdown",
   "id": "457e4e84",
   "metadata": {},
   "source": [
    "<a id=\"csv\"></a>\n",
    "# Load and Save CSV data\n",
    "\n",
    "This uses the read_csv and to_csv capabilities in pandas:\n",
    "* https://pandas.pydata.org/docs/reference/api/pandas.read_csv.html\n",
    "* https://pandas.pydata.org/docs/reference/api/pandas.DataFrame.to_csv.html"
   ]
  },
  {
   "cell_type": "code",
   "execution_count": 1,
   "id": "ef173a8e",
   "metadata": {},
   "outputs": [],
   "source": [
    "# Load in required packages\n",
    "import pandas as pd"
   ]
  },
  {
   "cell_type": "code",
   "execution_count": 2,
   "id": "ca32af2f",
   "metadata": {},
   "outputs": [],
   "source": [
    "data_from_csv = pd.read_csv(\"sample_input/iris.csv\", low_memory=False) # For small datasets, low_memory=False is not necessary"
   ]
  },
  {
   "cell_type": "code",
   "execution_count": 3,
   "id": "8e7f7cda",
   "metadata": {},
   "outputs": [
    {
     "data": {
      "text/html": [
       "<div>\n",
       "<style scoped>\n",
       "    .dataframe tbody tr th:only-of-type {\n",
       "        vertical-align: middle;\n",
       "    }\n",
       "\n",
       "    .dataframe tbody tr th {\n",
       "        vertical-align: top;\n",
       "    }\n",
       "\n",
       "    .dataframe thead th {\n",
       "        text-align: right;\n",
       "    }\n",
       "</style>\n",
       "<table border=\"1\" class=\"dataframe\">\n",
       "  <thead>\n",
       "    <tr style=\"text-align: right;\">\n",
       "      <th></th>\n",
       "      <th>sepal.length</th>\n",
       "      <th>sepal.width</th>\n",
       "      <th>petal.length</th>\n",
       "      <th>petal.width</th>\n",
       "      <th>variety</th>\n",
       "    </tr>\n",
       "  </thead>\n",
       "  <tbody>\n",
       "    <tr>\n",
       "      <th>0</th>\n",
       "      <td>5.1</td>\n",
       "      <td>3.5</td>\n",
       "      <td>1.4</td>\n",
       "      <td>0.2</td>\n",
       "      <td>Setosa</td>\n",
       "    </tr>\n",
       "    <tr>\n",
       "      <th>1</th>\n",
       "      <td>4.9</td>\n",
       "      <td>3.0</td>\n",
       "      <td>1.4</td>\n",
       "      <td>0.2</td>\n",
       "      <td>Setosa</td>\n",
       "    </tr>\n",
       "    <tr>\n",
       "      <th>2</th>\n",
       "      <td>4.7</td>\n",
       "      <td>3.2</td>\n",
       "      <td>1.3</td>\n",
       "      <td>0.2</td>\n",
       "      <td>Setosa</td>\n",
       "    </tr>\n",
       "    <tr>\n",
       "      <th>3</th>\n",
       "      <td>4.6</td>\n",
       "      <td>3.1</td>\n",
       "      <td>1.5</td>\n",
       "      <td>0.2</td>\n",
       "      <td>Setosa</td>\n",
       "    </tr>\n",
       "    <tr>\n",
       "      <th>4</th>\n",
       "      <td>5.0</td>\n",
       "      <td>3.6</td>\n",
       "      <td>1.4</td>\n",
       "      <td>0.2</td>\n",
       "      <td>Setosa</td>\n",
       "    </tr>\n",
       "  </tbody>\n",
       "</table>\n",
       "</div>"
      ],
      "text/plain": [
       "   sepal.length  sepal.width  petal.length  petal.width variety\n",
       "0           5.1          3.5           1.4          0.2  Setosa\n",
       "1           4.9          3.0           1.4          0.2  Setosa\n",
       "2           4.7          3.2           1.3          0.2  Setosa\n",
       "3           4.6          3.1           1.5          0.2  Setosa\n",
       "4           5.0          3.6           1.4          0.2  Setosa"
      ]
     },
     "execution_count": 3,
     "metadata": {},
     "output_type": "execute_result"
    }
   ],
   "source": [
    "data_from_csv.head()"
   ]
  },
  {
   "cell_type": "code",
   "execution_count": 4,
   "id": "5b56578f",
   "metadata": {},
   "outputs": [],
   "source": [
    "# Save into CSV\n",
    "data_from_csv.to_csv(\"sample_output/iris.csv\", index=False) \n",
    "# index=False prevents the 'index' (01,2,3,4...) to be saved as the first column in the csv"
   ]
  },
  {
   "cell_type": "markdown",
   "id": "ea6b4579",
   "metadata": {},
   "source": [
    "<a id=\"txt\"></a>\n",
    "# Load and Save TXT data\n",
    "\n",
    "This can still use the csv functionality! But you will need to specify the separator (if it is not comma-separated):\n",
    "* https://pandas.pydata.org/docs/reference/api/pandas.read_csv.html\n",
    "* https://pandas.pydata.org/docs/reference/api/pandas.DataFrame.to_csv.html\n"
   ]
  },
  {
   "cell_type": "code",
   "execution_count": 5,
   "id": "965ff631",
   "metadata": {},
   "outputs": [],
   "source": [
    "# Load in required packages\n",
    "import pandas as pd"
   ]
  },
  {
   "cell_type": "code",
   "execution_count": 6,
   "id": "82513f58",
   "metadata": {},
   "outputs": [],
   "source": [
    "# This file is tab-separated\n",
    "data_from_txt = pd.read_csv(\"sample_input/iris_tab_separated.txt\", sep='\\t')"
   ]
  },
  {
   "cell_type": "code",
   "execution_count": 7,
   "id": "fc2f9d44",
   "metadata": {},
   "outputs": [
    {
     "data": {
      "text/html": [
       "<div>\n",
       "<style scoped>\n",
       "    .dataframe tbody tr th:only-of-type {\n",
       "        vertical-align: middle;\n",
       "    }\n",
       "\n",
       "    .dataframe tbody tr th {\n",
       "        vertical-align: top;\n",
       "    }\n",
       "\n",
       "    .dataframe thead th {\n",
       "        text-align: right;\n",
       "    }\n",
       "</style>\n",
       "<table border=\"1\" class=\"dataframe\">\n",
       "  <thead>\n",
       "    <tr style=\"text-align: right;\">\n",
       "      <th></th>\n",
       "      <th>sepal.length</th>\n",
       "      <th>sepal.width</th>\n",
       "      <th>petal.length</th>\n",
       "      <th>petal.width</th>\n",
       "      <th>variety</th>\n",
       "    </tr>\n",
       "  </thead>\n",
       "  <tbody>\n",
       "    <tr>\n",
       "      <th>0</th>\n",
       "      <td>5.1</td>\n",
       "      <td>3.5</td>\n",
       "      <td>1.4</td>\n",
       "      <td>0.2</td>\n",
       "      <td>Setosa</td>\n",
       "    </tr>\n",
       "    <tr>\n",
       "      <th>1</th>\n",
       "      <td>4.9</td>\n",
       "      <td>3.0</td>\n",
       "      <td>1.4</td>\n",
       "      <td>0.2</td>\n",
       "      <td>Setosa</td>\n",
       "    </tr>\n",
       "    <tr>\n",
       "      <th>2</th>\n",
       "      <td>4.7</td>\n",
       "      <td>3.2</td>\n",
       "      <td>1.3</td>\n",
       "      <td>0.2</td>\n",
       "      <td>Setosa</td>\n",
       "    </tr>\n",
       "    <tr>\n",
       "      <th>3</th>\n",
       "      <td>4.6</td>\n",
       "      <td>3.1</td>\n",
       "      <td>1.5</td>\n",
       "      <td>0.2</td>\n",
       "      <td>Setosa</td>\n",
       "    </tr>\n",
       "    <tr>\n",
       "      <th>4</th>\n",
       "      <td>5.0</td>\n",
       "      <td>3.6</td>\n",
       "      <td>1.4</td>\n",
       "      <td>0.2</td>\n",
       "      <td>Setosa</td>\n",
       "    </tr>\n",
       "  </tbody>\n",
       "</table>\n",
       "</div>"
      ],
      "text/plain": [
       "   sepal.length  sepal.width  petal.length  petal.width variety\n",
       "0           5.1          3.5           1.4          0.2  Setosa\n",
       "1           4.9          3.0           1.4          0.2  Setosa\n",
       "2           4.7          3.2           1.3          0.2  Setosa\n",
       "3           4.6          3.1           1.5          0.2  Setosa\n",
       "4           5.0          3.6           1.4          0.2  Setosa"
      ]
     },
     "execution_count": 7,
     "metadata": {},
     "output_type": "execute_result"
    }
   ],
   "source": [
    "data_from_txt.head()"
   ]
  },
  {
   "cell_type": "code",
   "execution_count": 8,
   "id": "9059f40e",
   "metadata": {},
   "outputs": [],
   "source": [
    "# Save into TXT. In this example, we save it as a semi-colon separated file\n",
    "data_from_txt.to_csv(\"sample_output/iris_semicolon_separated.txt\", sep=';', index=False)\n",
    "# index=False prevents the 'index' (01,2,3,4...) to be saved as the first column in the txt"
   ]
  },
  {
   "cell_type": "markdown",
   "id": "31b252f1",
   "metadata": {},
   "source": [
    "<a id=\"excel\"></a>\n",
    "# Load and Save Excel data\n",
    "\n",
    "This reads in an Excel file, using pandas:\n",
    "* https://pandas.pydata.org/docs/reference/api/pandas.read_excel.html\n",
    "* https://pandas.pydata.org/docs/reference/api/pandas.DataFrame.to_excel.html\n",
    "\n",
    "This can be used to read in from specific tabs and cells/ranges within Excel. This makes use of additional Python packages built to handle Excel input/output (such as openpyxl, odf, pyxlsb) -- see the 'Engine' argument in the link above. By default, it will use openpyxl. Do not use 'xlrd', as it only works with the old 'xls' format\n"
   ]
  },
  {
   "cell_type": "code",
   "execution_count": 9,
   "id": "78f05c9d",
   "metadata": {},
   "outputs": [],
   "source": [
    "# Load in required packages\n",
    "import pandas as pd\n",
    "import openpyxl"
   ]
  },
  {
   "cell_type": "code",
   "execution_count": 10,
   "id": "fddd29cd",
   "metadata": {},
   "outputs": [],
   "source": [
    "# This writes and saves the data into a single tab Excel, where the data starts in cell A1, similar to reading in a CSV\n",
    "data_from_excel = pd.read_excel(\"sample_input/iris_single_tab.xlsx\")"
   ]
  },
  {
   "cell_type": "code",
   "execution_count": 11,
   "id": "4ff9d310",
   "metadata": {},
   "outputs": [],
   "source": [
    "# This saves the data into a single tab Excel starting in cell A1\n",
    "data_from_excel.to_excel(\"sample_output/iris_single_tab.xlsx\",index=False)"
   ]
  },
  {
   "cell_type": "markdown",
   "id": "afa58f1e",
   "metadata": {},
   "source": [
    "With Excel files, there is a lot of flexibility for where data is stored and formatted. The following provides an example where data from the second tab of an Excel is read in, and a two-tab Excel is created.\n",
    "\n",
    "To write multiple tabs into an Excel using pandas, the ExcelWriter functionality is needed to create the Excel\n",
    "https://pandas.pydata.org/docs/reference/api/pandas.ExcelWriter.html"
   ]
  },
  {
   "cell_type": "code",
   "execution_count": 12,
   "id": "0df4ddd3",
   "metadata": {},
   "outputs": [
    {
     "data": {
      "text/html": [
       "<div>\n",
       "<style scoped>\n",
       "    .dataframe tbody tr th:only-of-type {\n",
       "        vertical-align: middle;\n",
       "    }\n",
       "\n",
       "    .dataframe tbody tr th {\n",
       "        vertical-align: top;\n",
       "    }\n",
       "\n",
       "    .dataframe thead th {\n",
       "        text-align: right;\n",
       "    }\n",
       "</style>\n",
       "<table border=\"1\" class=\"dataframe\">\n",
       "  <thead>\n",
       "    <tr style=\"text-align: right;\">\n",
       "      <th></th>\n",
       "      <th>sepal.length</th>\n",
       "      <th>sepal.width</th>\n",
       "      <th>petal.length</th>\n",
       "      <th>petal.width</th>\n",
       "      <th>variety</th>\n",
       "    </tr>\n",
       "  </thead>\n",
       "  <tbody>\n",
       "    <tr>\n",
       "      <th>0</th>\n",
       "      <td>5.1</td>\n",
       "      <td>3.5</td>\n",
       "      <td>1.4</td>\n",
       "      <td>0.2</td>\n",
       "      <td>Setosa</td>\n",
       "    </tr>\n",
       "    <tr>\n",
       "      <th>1</th>\n",
       "      <td>4.9</td>\n",
       "      <td>3.0</td>\n",
       "      <td>1.4</td>\n",
       "      <td>0.2</td>\n",
       "      <td>Setosa</td>\n",
       "    </tr>\n",
       "    <tr>\n",
       "      <th>2</th>\n",
       "      <td>4.7</td>\n",
       "      <td>3.2</td>\n",
       "      <td>1.3</td>\n",
       "      <td>0.2</td>\n",
       "      <td>Setosa</td>\n",
       "    </tr>\n",
       "    <tr>\n",
       "      <th>3</th>\n",
       "      <td>4.6</td>\n",
       "      <td>3.1</td>\n",
       "      <td>1.5</td>\n",
       "      <td>0.2</td>\n",
       "      <td>Setosa</td>\n",
       "    </tr>\n",
       "    <tr>\n",
       "      <th>4</th>\n",
       "      <td>5.0</td>\n",
       "      <td>3.6</td>\n",
       "      <td>1.4</td>\n",
       "      <td>0.2</td>\n",
       "      <td>Setosa</td>\n",
       "    </tr>\n",
       "  </tbody>\n",
       "</table>\n",
       "</div>"
      ],
      "text/plain": [
       "   sepal.length  sepal.width  petal.length  petal.width variety\n",
       "0           5.1          3.5           1.4          0.2  Setosa\n",
       "1           4.9          3.0           1.4          0.2  Setosa\n",
       "2           4.7          3.2           1.3          0.2  Setosa\n",
       "3           4.6          3.1           1.5          0.2  Setosa\n",
       "4           5.0          3.6           1.4          0.2  Setosa"
      ]
     },
     "execution_count": 12,
     "metadata": {},
     "output_type": "execute_result"
    }
   ],
   "source": [
    "# Data is stored in the second tab, named \"iris\", \n",
    "# with headers starting in B3 going left to right, and data starting in B5 going left to right\n",
    "\n",
    "data_from_excel_2 = pd.read_excel(\"sample_input/iris_multi_tab.xlsx\",\n",
    "                                  sheet_name = \"iris\",\n",
    "                                  index_col = None, # No index column\n",
    "                                  skiprows = [0, 1,3], # No data in first, second, fourth rows\n",
    "                                  usecols=lambda x: 'Unnamed' not in x # Skip blank columns\n",
    "                                 )\n",
    "\n",
    "data_from_excel_2.head()"
   ]
  },
  {
   "cell_type": "code",
   "execution_count": 13,
   "id": "594513e4",
   "metadata": {},
   "outputs": [],
   "source": [
    "# Create a blank Excel file with two tabs.\n",
    "\n",
    "writer = pd.ExcelWriter('sample_output/iris_multi_tab.xlsx', engine='openpyxl')\n",
    "\n",
    "# Populate the first tab description: Text stored in a dataframe\n",
    "pd.DataFrame({\"Description\":[\"Hello World\"]}).T.to_excel(writer,\n",
    "                                                         sheet_name = \"Description\",\n",
    "                                                         index=True,\n",
    "                                                         header=False,\n",
    "                                                         startrow = 1,\n",
    "                                                         startcol = 2\n",
    "                                                        )\n",
    "\n",
    "# Then populate a second tab with the data\n",
    "data_from_excel_2.to_excel(writer,\n",
    "                                 sheet_name = \"Data\",\n",
    "                                 index=False,\n",
    "                                 header=True,\n",
    "                                 startrow = 1,\n",
    "                                 startcol = 2\n",
    "                                )\n",
    "\n",
    "\n",
    "# Save\n",
    "writer.close()"
   ]
  },
  {
   "cell_type": "markdown",
   "id": "31c68f92",
   "metadata": {},
   "source": [
    "<a id=\"json\"></a>\n",
    "# Read and write from json\n",
    "\n",
    "Python has a built in package called json for writing and reading json files. Refer to: https://docs.python.org/3/library/json.html"
   ]
  },
  {
   "cell_type": "code",
   "execution_count": 14,
   "id": "20f7d9b1",
   "metadata": {},
   "outputs": [],
   "source": [
    "import json"
   ]
  },
  {
   "cell_type": "code",
   "execution_count": 15,
   "id": "5e21ef66",
   "metadata": {},
   "outputs": [
    {
     "data": {
      "text/plain": [
       "{'Name': 'Test',\n",
       " 'Mobile': 12345678,\n",
       " 'Boolean': True,\n",
       " 'Pets': ['Dog', 'cat'],\n",
       " 'Address': {'Permanent address': 'USA', 'current Address': 'AU'}}"
      ]
     },
     "execution_count": 15,
     "metadata": {},
     "output_type": "execute_result"
    }
   ],
   "source": [
    "# Opening JSON file\n",
    "with open('sample_input/example_json.json') as file:\n",
    "    \n",
    "    # returns JSON object as a dictionary\n",
    "    json_data = json.load(file)\n",
    "    \n",
    "json_data"
   ]
  },
  {
   "cell_type": "code",
   "execution_count": 16,
   "id": "a13e79e4",
   "metadata": {},
   "outputs": [],
   "source": [
    "# Write json files\n",
    "with open('sample_output/example_json.json', 'w') as file:  # The 'w' is for 'write'\n",
    "    json_string = json.dumps(json_data)\n",
    "    \n",
    "    file.write(json_string)"
   ]
  },
  {
   "cell_type": "markdown",
   "id": "8a20613e",
   "metadata": {},
   "source": [
    "<a id=\"pickle\"></a>\n",
    "# Read and write a pickle file\n",
    "\n",
    "pickle is Python's native method for serializing objects, allowing you to store virtually any objects: https://docs.python.org/3/library/pickle.html \n",
    "\n",
    "**Beware: Do not load (unpickle) unknown pickle files, as the file can potentially contain malicious code. Where possible, use other serialization methods where possible (as per examples above)**\n",
    "* There are methods to store some models as json, e.g. https://github.com/mlrequest/sklearn-json\n",
    "\n",
    "In this example, we create a dictionary containing a string, a list, a pandas dataframe, and a matplotlib figure, and save it as a pickle file. Then we also show how to load the saved pickle file "
   ]
  },
  {
   "cell_type": "code",
   "execution_count": 17,
   "id": "6c95a387",
   "metadata": {},
   "outputs": [],
   "source": [
    "import pickle\n",
    "import pandas as pd\n",
    "import numpy as np\n",
    "import matplotlib\n",
    "%matplotlib inline\n",
    "import matplotlib.pyplot as plt"
   ]
  },
  {
   "cell_type": "code",
   "execution_count": 18,
   "id": "0c7f9d0d",
   "metadata": {},
   "outputs": [
    {
     "data": {
      "image/png": "[encoded data removed]",
      "text/plain": [
       "<Figure size 640x480 with 1 Axes>"
      ]
     },
     "metadata": {},
     "output_type": "display_data"
    }
   ],
   "source": [
    "# Create each of the items\n",
    "test_string = \"This is a pickle example\"\n",
    "test_list = [\"A\", \"B\", \"C\", \"D\"]\n",
    "test_pandas = pd.DataFrame({\"Col1\": [1,2,3], \"Col2\":[-1,-2,-3], \"Col3\": [0,0,0]})\n",
    "test_fig = plt.figure()\n",
    "x = np.linspace(0,2*np.pi)\n",
    "y = np.sin(x)\n",
    "plt.plot(x,y)\n",
    "\n",
    "# Create the dictionary\n",
    "dictionary_to_save = {\n",
    "    \"my_string\": test_string,\n",
    "    \"my_list\": test_list,\n",
    "    \"my_pandas\": test_pandas,\n",
    "    \"my_figure\": test_fig\n",
    "}"
   ]
  },
  {
   "cell_type": "code",
   "execution_count": 19,
   "id": "783e94e7",
   "metadata": {},
   "outputs": [],
   "source": [
    "# Pickle the dictionary into a file\n",
    "with open('sample_output/example_pickle.pickle', 'wb') as file:  # The 'w' is for 'write', and 'b' for binary (not )\n",
    "    pickle.dump(dictionary_to_save,file)"
   ]
  },
  {
   "cell_type": "code",
   "execution_count": 20,
   "id": "b35e34cf",
   "metadata": {},
   "outputs": [
    {
     "data": {
      "text/plain": [
       "{'my_string': 'This is a pickle example',\n",
       " 'my_list': ['A', 'B', 'C', 'D'],\n",
       " 'my_pandas':    Col1  Col2  Col3\n",
       " 0     1    -1     0\n",
       " 1     2    -2     0\n",
       " 2     3    -3     0,\n",
       " 'my_figure': <Figure size 640x480 with 1 Axes>}"
      ]
     },
     "execution_count": 20,
     "metadata": {},
     "output_type": "execute_result"
    }
   ],
   "source": [
    "# Read in the pickle file\n",
    "with open('sample_output/example_pickle.pickle', 'rb') as file:  # The 'r' is for 'read', and 'b' for binary (not )\n",
    "    loaded_pickle = pickle.load(file)\n",
    "    \n",
    "# Check the file\n",
    "loaded_pickle"
   ]
  },
  {
   "cell_type": "code",
   "execution_count": 21,
   "id": "43d407af",
   "metadata": {},
   "outputs": [
    {
     "data": {
      "text/html": [
       "<div>\n",
       "<style scoped>\n",
       "    .dataframe tbody tr th:only-of-type {\n",
       "        vertical-align: middle;\n",
       "    }\n",
       "\n",
       "    .dataframe tbody tr th {\n",
       "        vertical-align: top;\n",
       "    }\n",
       "\n",
       "    .dataframe thead th {\n",
       "        text-align: right;\n",
       "    }\n",
       "</style>\n",
       "<table border=\"1\" class=\"dataframe\">\n",
       "  <thead>\n",
       "    <tr style=\"text-align: right;\">\n",
       "      <th></th>\n",
       "      <th>Col1</th>\n",
       "      <th>Col2</th>\n",
       "      <th>Col3</th>\n",
       "    </tr>\n",
       "  </thead>\n",
       "  <tbody>\n",
       "    <tr>\n",
       "      <th>0</th>\n",
       "      <td>1</td>\n",
       "      <td>-1</td>\n",
       "      <td>0</td>\n",
       "    </tr>\n",
       "    <tr>\n",
       "      <th>1</th>\n",
       "      <td>2</td>\n",
       "      <td>-2</td>\n",
       "      <td>0</td>\n",
       "    </tr>\n",
       "    <tr>\n",
       "      <th>2</th>\n",
       "      <td>3</td>\n",
       "      <td>-3</td>\n",
       "      <td>0</td>\n",
       "    </tr>\n",
       "  </tbody>\n",
       "</table>\n",
       "</div>"
      ],
      "text/plain": [
       "   Col1  Col2  Col3\n",
       "0     1    -1     0\n",
       "1     2    -2     0\n",
       "2     3    -3     0"
      ]
     },
     "execution_count": 21,
     "metadata": {},
     "output_type": "execute_result"
    }
   ],
   "source": [
    "# To access the pandas dataframe\n",
    "loaded_pickle['my_pandas']"
   ]
  },
  {
   "cell_type": "code",
   "execution_count": 22,
   "id": "bc6abc80",
   "metadata": {},
   "outputs": [
    {
     "data": {
      "image/png": "[encoded data removed]",
      "text/plain": [
       "<Figure size 640x480 with 1 Axes>"
      ]
     },
     "execution_count": 22,
     "metadata": {},
     "output_type": "execute_result"
    }
   ],
   "source": [
    "# To access the figure\n",
    "loaded_pickle['my_figure']"
   ]
  },
  {
   "cell_type": "markdown",
   "id": "fd3ee9db",
   "metadata": {},
   "source": [
    "# Tips and Tricks\n",
    "\n",
    "This section provides some useful tips and tricks, along with re-usable functions (stored in the utilities folder)"
   ]
  },
  {
   "cell_type": "markdown",
   "id": "bfdcc28d",
   "metadata": {},
   "source": [
    "## Get the latest file within a folder based on time-stamp\n",
    "\n",
    "When data is frequently updated, you may want a function that automatically identifies the latest file. The following function does so -- you may need to adapt the logic for extracting the date from the file."
   ]
  },
  {
   "cell_type": "code",
   "execution_count": 23,
   "id": "7ba9b82c",
   "metadata": {},
   "outputs": [],
   "source": [
    "import glob, os, datetime\n",
    "def get_latest_file(folder, file_ending = '.csv'):\n",
    "    \n",
    "    # This will hold the latest file\n",
    "    latest_file = None\n",
    "    latest_file_date = None\n",
    "    found_files = glob.glob(f\"{folder}/*{file_ending }\")\n",
    "    \n",
    "    for filepath in found_files:\n",
    "        \n",
    "        filename = os.path.basename(filepath)\n",
    "        \n",
    "        # Get the date associated with the file. Tailor this logic!\n",
    "        file_date = datetime.datetime.strptime(filename[:8], \"%Y%m%d\").date()\n",
    "        \n",
    "        if latest_file is None:\n",
    "            latest_file = filepath\n",
    "            latest_file_date = file_date\n",
    "        elif file_date > latest_file_date:\n",
    "            latest_file = filepath\n",
    "            latest_file_date = file_date\n",
    "    \n",
    "    if latest_file is None:\n",
    "        print(\"No file matching the extension was found\")\n",
    "    \n",
    "    return latest_file.replace(\"\\\\\", \"/\")"
   ]
  },
  {
   "cell_type": "code",
   "execution_count": 24,
   "id": "995658cc",
   "metadata": {},
   "outputs": [
    {
     "data": {
      "text/plain": [
       "'sample_input/csv_folder_1/20230425_sample_file.csv'"
      ]
     },
     "execution_count": 24,
     "metadata": {},
     "output_type": "execute_result"
    }
   ],
   "source": [
    "get_latest_file(\"sample_input/csv_folder_1/\", file_ending = \"file.csv\")"
   ]
  },
  {
   "cell_type": "markdown",
   "id": "727e8106",
   "metadata": {},
   "source": [
    "## Selecting which characters that pandas should detect as Missing\n",
    "\n",
    "pandas automatically detects the following values as missing: ‘#N/A’, ‘#N/A N/A’, ‘#NA’, ‘-1.#IND’, ‘-1.#QNAN’, ‘-NaN’, ‘-nan’, ‘1.#IND’, ‘1.#QNAN’, ‘<NA>’, ‘N/A’, ‘NA’, ‘NULL’, ‘NaN’, ‘None’, ‘n/a’, ‘nan’, ‘null’\n",
    "    \n",
    "You can choose to add additional strings to be detected as missing by specifying the argument 'na_values'\n",
    "    \n",
    "You can also choose to ignore the default choices for the missing values above, by setting 'keep_default_na = False'\n",
    "    \n",
    "If you specify the argument 'na_filter = False' then pandas will not detect any NAs at all in your data. If you know you don't have missing data, doing this can speed up the load (especially for very large files)\n",
    "    \n",
    "Read more here: https://pandas.pydata.org/docs/reference/api/pandas.read_csv.html"
   ]
  },
  {
   "cell_type": "markdown",
   "id": "d2a10850",
   "metadata": {},
   "source": [
    "## Using dtype and parse_dates to specify data type of each column\n",
    "\n",
    "By specifying a dictionary for dtype where the key is the column name and the value is the data type, we can tell pandas how to interpret the data fields. You can choose to specify this for a subset of columns.\n",
    "\n",
    "For dates, \n"
   ]
  },
  {
   "cell_type": "code",
   "execution_count": 25,
   "id": "ee132060",
   "metadata": {},
   "outputs": [
    {
     "data": {
      "text/html": [
       "<div>\n",
       "<style scoped>\n",
       "    .dataframe tbody tr th:only-of-type {\n",
       "        vertical-align: middle;\n",
       "    }\n",
       "\n",
       "    .dataframe tbody tr th {\n",
       "        vertical-align: top;\n",
       "    }\n",
       "\n",
       "    .dataframe thead th {\n",
       "        text-align: right;\n",
       "    }\n",
       "</style>\n",
       "<table border=\"1\" class=\"dataframe\">\n",
       "  <thead>\n",
       "    <tr style=\"text-align: right;\">\n",
       "      <th></th>\n",
       "      <th>A</th>\n",
       "      <th>B</th>\n",
       "      <th>C</th>\n",
       "      <th>D</th>\n",
       "      <th>E</th>\n",
       "      <th>F</th>\n",
       "    </tr>\n",
       "  </thead>\n",
       "  <tbody>\n",
       "    <tr>\n",
       "      <th>0</th>\n",
       "      <td>48</td>\n",
       "      <td>159.0</td>\n",
       "      <td>center</td>\n",
       "      <td>Drive baby eight.</td>\n",
       "      <td>2023-04-17</td>\n",
       "      <td>8/13/22 6:47 AM</td>\n",
       "    </tr>\n",
       "    <tr>\n",
       "      <th>1</th>\n",
       "      <td>69</td>\n",
       "      <td>870.0</td>\n",
       "      <td>bed</td>\n",
       "      <td>Someone truth at.</td>\n",
       "      <td>2022-11-30</td>\n",
       "      <td>9/6/22 10:36 PM</td>\n",
       "    </tr>\n",
       "    <tr>\n",
       "      <th>2</th>\n",
       "      <td>88</td>\n",
       "      <td>NaN</td>\n",
       "      <td>they</td>\n",
       "      <td>NaN</td>\n",
       "      <td>2022-11-18</td>\n",
       "      <td>4/21/23 1:40 PM</td>\n",
       "    </tr>\n",
       "    <tr>\n",
       "      <th>3</th>\n",
       "      <td>44</td>\n",
       "      <td>360.0</td>\n",
       "      <td>energy</td>\n",
       "      <td>Also summer.</td>\n",
       "      <td>2022-08-02</td>\n",
       "      <td>6/11/23 8:49 PM</td>\n",
       "    </tr>\n",
       "    <tr>\n",
       "      <th>4</th>\n",
       "      <td>47</td>\n",
       "      <td>295.0</td>\n",
       "      <td>operation</td>\n",
       "      <td>Option set along.</td>\n",
       "      <td>2023-06-18</td>\n",
       "      <td>12/24/22 3:19 AM</td>\n",
       "    </tr>\n",
       "  </tbody>\n",
       "</table>\n",
       "</div>"
      ],
      "text/plain": [
       "    A      B          C                  D           E                 F\n",
       "0  48  159.0     center  Drive baby eight.  2023-04-17   8/13/22 6:47 AM\n",
       "1  69  870.0        bed  Someone truth at.  2022-11-30   9/6/22 10:36 PM\n",
       "2  88    NaN       they                NaN  2022-11-18   4/21/23 1:40 PM\n",
       "3  44  360.0     energy       Also summer.  2022-08-02   6/11/23 8:49 PM\n",
       "4  47  295.0  operation  Option set along.  2023-06-18  12/24/22 3:19 AM"
      ]
     },
     "execution_count": 25,
     "metadata": {},
     "output_type": "execute_result"
    }
   ],
   "source": [
    "# Without dtype\n",
    "pd.read_csv(\"sample_input/dtype_test_file.csv\").head()"
   ]
  },
  {
   "cell_type": "code",
   "execution_count": 26,
   "id": "85781b3e",
   "metadata": {},
   "outputs": [
    {
     "data": {
      "text/html": [
       "<div>\n",
       "<style scoped>\n",
       "    .dataframe tbody tr th:only-of-type {\n",
       "        vertical-align: middle;\n",
       "    }\n",
       "\n",
       "    .dataframe tbody tr th {\n",
       "        vertical-align: top;\n",
       "    }\n",
       "\n",
       "    .dataframe thead th {\n",
       "        text-align: right;\n",
       "    }\n",
       "</style>\n",
       "<table border=\"1\" class=\"dataframe\">\n",
       "  <thead>\n",
       "    <tr style=\"text-align: right;\">\n",
       "      <th></th>\n",
       "      <th>A</th>\n",
       "      <th>B</th>\n",
       "      <th>C</th>\n",
       "      <th>D</th>\n",
       "      <th>E</th>\n",
       "      <th>F</th>\n",
       "    </tr>\n",
       "  </thead>\n",
       "  <tbody>\n",
       "    <tr>\n",
       "      <th>0</th>\n",
       "      <td>48.0</td>\n",
       "      <td>159.0</td>\n",
       "      <td>center</td>\n",
       "      <td>Drive baby eight.</td>\n",
       "      <td>2023-04-17</td>\n",
       "      <td>2022-08-13 06:47:00</td>\n",
       "    </tr>\n",
       "    <tr>\n",
       "      <th>1</th>\n",
       "      <td>69.0</td>\n",
       "      <td>870.0</td>\n",
       "      <td>bed</td>\n",
       "      <td>Someone truth at.</td>\n",
       "      <td>2022-11-30</td>\n",
       "      <td>2022-09-06 22:36:00</td>\n",
       "    </tr>\n",
       "    <tr>\n",
       "      <th>2</th>\n",
       "      <td>88.0</td>\n",
       "      <td>NaN</td>\n",
       "      <td>they</td>\n",
       "      <td>NaN</td>\n",
       "      <td>2022-11-18</td>\n",
       "      <td>2023-04-21 13:40:00</td>\n",
       "    </tr>\n",
       "    <tr>\n",
       "      <th>3</th>\n",
       "      <td>44.0</td>\n",
       "      <td>360.0</td>\n",
       "      <td>energy</td>\n",
       "      <td>Also summer.</td>\n",
       "      <td>2022-08-02</td>\n",
       "      <td>2023-06-11 20:49:00</td>\n",
       "    </tr>\n",
       "    <tr>\n",
       "      <th>4</th>\n",
       "      <td>47.0</td>\n",
       "      <td>295.0</td>\n",
       "      <td>operation</td>\n",
       "      <td>Option set along.</td>\n",
       "      <td>2023-06-18</td>\n",
       "      <td>2022-12-24 03:19:00</td>\n",
       "    </tr>\n",
       "  </tbody>\n",
       "</table>\n",
       "</div>"
      ],
      "text/plain": [
       "      A      B          C                  D           E                   F\n",
       "0  48.0  159.0     center  Drive baby eight.  2023-04-17 2022-08-13 06:47:00\n",
       "1  69.0  870.0        bed  Someone truth at.  2022-11-30 2022-09-06 22:36:00\n",
       "2  88.0    NaN       they                NaN  2022-11-18 2023-04-21 13:40:00\n",
       "3  44.0  360.0     energy       Also summer.  2022-08-02 2023-06-11 20:49:00\n",
       "4  47.0  295.0  operation  Option set along.  2023-06-18 2022-12-24 03:19:00"
      ]
     },
     "execution_count": 26,
     "metadata": {},
     "output_type": "execute_result"
    }
   ],
   "source": [
    "pd.read_csv(\"sample_input/dtype_test_file.csv\", dtype = {'A': float}, parse_dates=['F'], date_format=\"%m/%d/%y %I:%M %p\").head()"
   ]
  },
  {
   "cell_type": "markdown",
   "id": "fe4e471d",
   "metadata": {},
   "source": [
    "## Using dtype = object to avoid any data casting by pandas\n",
    "\n",
    "Use along with na_filter=False to preserve data"
   ]
  },
  {
   "cell_type": "code",
   "execution_count": 27,
   "id": "c07e85bb",
   "metadata": {},
   "outputs": [
    {
     "data": {
      "text/html": [
       "<div>\n",
       "<style scoped>\n",
       "    .dataframe tbody tr th:only-of-type {\n",
       "        vertical-align: middle;\n",
       "    }\n",
       "\n",
       "    .dataframe tbody tr th {\n",
       "        vertical-align: top;\n",
       "    }\n",
       "\n",
       "    .dataframe thead th {\n",
       "        text-align: right;\n",
       "    }\n",
       "</style>\n",
       "<table border=\"1\" class=\"dataframe\">\n",
       "  <thead>\n",
       "    <tr style=\"text-align: right;\">\n",
       "      <th></th>\n",
       "      <th>A</th>\n",
       "      <th>B</th>\n",
       "      <th>C</th>\n",
       "      <th>D</th>\n",
       "      <th>E</th>\n",
       "      <th>F</th>\n",
       "    </tr>\n",
       "  </thead>\n",
       "  <tbody>\n",
       "    <tr>\n",
       "      <th>0</th>\n",
       "      <td>48</td>\n",
       "      <td>159</td>\n",
       "      <td>center</td>\n",
       "      <td>Drive baby eight.</td>\n",
       "      <td>2023-04-17</td>\n",
       "      <td>8/13/22 6:47 AM</td>\n",
       "    </tr>\n",
       "    <tr>\n",
       "      <th>1</th>\n",
       "      <td>69</td>\n",
       "      <td>870</td>\n",
       "      <td>bed</td>\n",
       "      <td>Someone truth at.</td>\n",
       "      <td>2022-11-30</td>\n",
       "      <td>9/6/22 10:36 PM</td>\n",
       "    </tr>\n",
       "    <tr>\n",
       "      <th>2</th>\n",
       "      <td>88</td>\n",
       "      <td></td>\n",
       "      <td>they</td>\n",
       "      <td></td>\n",
       "      <td>2022-11-18</td>\n",
       "      <td>4/21/23 1:40 PM</td>\n",
       "    </tr>\n",
       "    <tr>\n",
       "      <th>3</th>\n",
       "      <td>44</td>\n",
       "      <td>360</td>\n",
       "      <td>energy</td>\n",
       "      <td>Also summer.</td>\n",
       "      <td>2022-08-02</td>\n",
       "      <td>6/11/23 8:49 PM</td>\n",
       "    </tr>\n",
       "    <tr>\n",
       "      <th>4</th>\n",
       "      <td>47</td>\n",
       "      <td>295</td>\n",
       "      <td>operation</td>\n",
       "      <td>Option set along.</td>\n",
       "      <td>2023-06-18</td>\n",
       "      <td>12/24/22 3:19 AM</td>\n",
       "    </tr>\n",
       "  </tbody>\n",
       "</table>\n",
       "</div>"
      ],
      "text/plain": [
       "    A    B          C                  D           E                 F\n",
       "0  48  159     center  Drive baby eight.  2023-04-17   8/13/22 6:47 AM\n",
       "1  69  870        bed  Someone truth at.  2022-11-30   9/6/22 10:36 PM\n",
       "2  88            they                     2022-11-18   4/21/23 1:40 PM\n",
       "3  44  360     energy       Also summer.  2022-08-02   6/11/23 8:49 PM\n",
       "4  47  295  operation  Option set along.  2023-06-18  12/24/22 3:19 AM"
      ]
     },
     "execution_count": 27,
     "metadata": {},
     "output_type": "execute_result"
    }
   ],
   "source": [
    "pd.read_csv(\"sample_input/dtype_test_file.csv\", dtype = object, na_filter = False).head()"
   ]
  },
  {
   "cell_type": "markdown",
   "id": "ee6f932a",
   "metadata": {},
   "source": [
    "## Reading csv from URLs\n",
    "\n",
    "You can pass a URL to pd.read_csv. For many URL requests however, you need to pass a header along with the request, and you can do so with the 'storage options' argument.\n",
    "\n",
    "For more advanced ways of scraping / fetching data from the web, see the web scraping templates from Gryphon."
   ]
  },
  {
   "cell_type": "code",
   "execution_count": 28,
   "id": "65b34a7c",
   "metadata": {},
   "outputs": [
    {
     "data": {
      "text/html": [
       "<div>\n",
       "<style scoped>\n",
       "    .dataframe tbody tr th:only-of-type {\n",
       "        vertical-align: middle;\n",
       "    }\n",
       "\n",
       "    .dataframe tbody tr th {\n",
       "        vertical-align: top;\n",
       "    }\n",
       "\n",
       "    .dataframe thead th {\n",
       "        text-align: right;\n",
       "    }\n",
       "</style>\n",
       "<table border=\"1\" class=\"dataframe\">\n",
       "  <thead>\n",
       "    <tr style=\"text-align: right;\">\n",
       "      <th></th>\n",
       "      <th>Effective Date</th>\n",
       "      <th>Exchange Code</th>\n",
       "      <th>Logical Commodity Code</th>\n",
       "      <th>Physical Commodity Code</th>\n",
       "      <th>Contract Name</th>\n",
       "      <th>Currency</th>\n",
       "      <th>New Scanning Range</th>\n",
       "      <th>Previous Scanning Range</th>\n",
       "      <th>New Applied Margin Rate</th>\n",
       "      <th>Previous Applied Margin Rate</th>\n",
       "      <th>...</th>\n",
       "      <th>Previous Volatility Down Shift</th>\n",
       "      <th>New Short Option Minimum</th>\n",
       "      <th>Margin Units</th>\n",
       "      <th>Multiplier</th>\n",
       "      <th>Market</th>\n",
       "      <th>Asset Class</th>\n",
       "      <th>Sector</th>\n",
       "      <th>Spread Reference Product</th>\n",
       "      <th>Position Allocation</th>\n",
       "      <th>Margin Erosion</th>\n",
       "    </tr>\n",
       "  </thead>\n",
       "  <tbody>\n",
       "    <tr>\n",
       "      <th>0</th>\n",
       "      <td>18-APR-23</td>\n",
       "      <td>I</td>\n",
       "      <td>14X</td>\n",
       "      <td>NaN</td>\n",
       "      <td>14X-USAC HSFO (Platts) Future</td>\n",
       "      <td>USD</td>\n",
       "      <td>6665.0</td>\n",
       "      <td>6659.0</td>\n",
       "      <td>5617.2620</td>\n",
       "      <td>5700.7699</td>\n",
       "      <td>...</td>\n",
       "      <td>NaN</td>\n",
       "      <td>1</td>\n",
       "      <td>Lots</td>\n",
       "      <td>1000.0</td>\n",
       "      <td>IFED</td>\n",
       "      <td>Oil</td>\n",
       "      <td>Oil</td>\n",
       "      <td>14X</td>\n",
       "      <td>No</td>\n",
       "      <td>Linear</td>\n",
       "    </tr>\n",
       "    <tr>\n",
       "      <th>1</th>\n",
       "      <td>18-APR-23</td>\n",
       "      <td>I</td>\n",
       "      <td>14X</td>\n",
       "      <td>NaN</td>\n",
       "      <td>14X-USAC HSFO (Platts) Future</td>\n",
       "      <td>USD</td>\n",
       "      <td>6665.0</td>\n",
       "      <td>6659.0</td>\n",
       "      <td>6665.0000</td>\n",
       "      <td>6659.0000</td>\n",
       "      <td>...</td>\n",
       "      <td>NaN</td>\n",
       "      <td>1</td>\n",
       "      <td>Lots</td>\n",
       "      <td>1000.0</td>\n",
       "      <td>IFED</td>\n",
       "      <td>Oil</td>\n",
       "      <td>Oil</td>\n",
       "      <td>14X</td>\n",
       "      <td>No</td>\n",
       "      <td>Linear</td>\n",
       "    </tr>\n",
       "    <tr>\n",
       "      <th>2</th>\n",
       "      <td>18-APR-23</td>\n",
       "      <td>I</td>\n",
       "      <td>14X</td>\n",
       "      <td>NaN</td>\n",
       "      <td>14X-USAC HSFO (Platts) Future</td>\n",
       "      <td>USD</td>\n",
       "      <td>6665.0</td>\n",
       "      <td>6659.0</td>\n",
       "      <td>6348.4125</td>\n",
       "      <td>6350.6883</td>\n",
       "      <td>...</td>\n",
       "      <td>NaN</td>\n",
       "      <td>1</td>\n",
       "      <td>Lots</td>\n",
       "      <td>1000.0</td>\n",
       "      <td>IFED</td>\n",
       "      <td>Oil</td>\n",
       "      <td>Oil</td>\n",
       "      <td>14X</td>\n",
       "      <td>No</td>\n",
       "      <td>Linear</td>\n",
       "    </tr>\n",
       "    <tr>\n",
       "      <th>3</th>\n",
       "      <td>18-APR-23</td>\n",
       "      <td>I</td>\n",
       "      <td>14X</td>\n",
       "      <td>NaN</td>\n",
       "      <td>14X-USAC HSFO (Platts) Future</td>\n",
       "      <td>USD</td>\n",
       "      <td>6665.0</td>\n",
       "      <td>6659.0</td>\n",
       "      <td>5743.2305</td>\n",
       "      <td>5780.6779</td>\n",
       "      <td>...</td>\n",
       "      <td>NaN</td>\n",
       "      <td>1</td>\n",
       "      <td>Lots</td>\n",
       "      <td>1000.0</td>\n",
       "      <td>IFED</td>\n",
       "      <td>Oil</td>\n",
       "      <td>Oil</td>\n",
       "      <td>14X</td>\n",
       "      <td>No</td>\n",
       "      <td>Linear</td>\n",
       "    </tr>\n",
       "    <tr>\n",
       "      <th>4</th>\n",
       "      <td>18-APR-23</td>\n",
       "      <td>I</td>\n",
       "      <td>14X</td>\n",
       "      <td>NaN</td>\n",
       "      <td>14X-USAC HSFO (Platts) Future</td>\n",
       "      <td>USD</td>\n",
       "      <td>6665.0</td>\n",
       "      <td>6659.0</td>\n",
       "      <td>5347.3295</td>\n",
       "      <td>5439.0712</td>\n",
       "      <td>...</td>\n",
       "      <td>NaN</td>\n",
       "      <td>1</td>\n",
       "      <td>Lots</td>\n",
       "      <td>1000.0</td>\n",
       "      <td>IFED</td>\n",
       "      <td>Oil</td>\n",
       "      <td>Oil</td>\n",
       "      <td>14X</td>\n",
       "      <td>No</td>\n",
       "      <td>Linear</td>\n",
       "    </tr>\n",
       "  </tbody>\n",
       "</table>\n",
       "<p>5 rows × 31 columns</p>\n",
       "</div>"
      ],
      "text/plain": [
       "  Effective Date Exchange Code Logical Commodity Code Physical Commodity Code  \\\n",
       "0      18-APR-23             I                    14X                     NaN   \n",
       "1      18-APR-23             I                    14X                     NaN   \n",
       "2      18-APR-23             I                    14X                     NaN   \n",
       "3      18-APR-23             I                    14X                     NaN   \n",
       "4      18-APR-23             I                    14X                     NaN   \n",
       "\n",
       "                   Contract Name Currency  New Scanning Range  \\\n",
       "0  14X-USAC HSFO (Platts) Future      USD              6665.0   \n",
       "1  14X-USAC HSFO (Platts) Future      USD              6665.0   \n",
       "2  14X-USAC HSFO (Platts) Future      USD              6665.0   \n",
       "3  14X-USAC HSFO (Platts) Future      USD              6665.0   \n",
       "4  14X-USAC HSFO (Platts) Future      USD              6665.0   \n",
       "\n",
       "   Previous Scanning Range  New Applied Margin Rate  \\\n",
       "0                   6659.0                5617.2620   \n",
       "1                   6659.0                6665.0000   \n",
       "2                   6659.0                6348.4125   \n",
       "3                   6659.0                5743.2305   \n",
       "4                   6659.0                5347.3295   \n",
       "\n",
       "   Previous Applied Margin Rate  ... Previous Volatility Down Shift  \\\n",
       "0                     5700.7699  ...                            NaN   \n",
       "1                     6659.0000  ...                            NaN   \n",
       "2                     6350.6883  ...                            NaN   \n",
       "3                     5780.6779  ...                            NaN   \n",
       "4                     5439.0712  ...                            NaN   \n",
       "\n",
       "   New Short Option Minimum Margin Units Multiplier  Market  Asset Class  \\\n",
       "0                         1         Lots     1000.0    IFED          Oil   \n",
       "1                         1         Lots     1000.0    IFED          Oil   \n",
       "2                         1         Lots     1000.0    IFED          Oil   \n",
       "3                         1         Lots     1000.0    IFED          Oil   \n",
       "4                         1         Lots     1000.0    IFED          Oil   \n",
       "\n",
       "  Sector Spread Reference Product Position Allocation Margin Erosion  \n",
       "0    Oil                      14X                  No         Linear  \n",
       "1    Oil                      14X                  No         Linear  \n",
       "2    Oil                      14X                  No         Linear  \n",
       "3    Oil                      14X                  No         Linear  \n",
       "4    Oil                      14X                  No         Linear  \n",
       "\n",
       "[5 rows x 31 columns]"
      ]
     },
     "execution_count": 28,
     "metadata": {},
     "output_type": "execute_result"
    }
   ],
   "source": [
    "URL = 'https://www.theice.com/publicdocs/clear_europe/irmParameters/harmonized/ENERGY_MARGIN_SCANNING_20230426.CSV'\n",
    "read_table = pd.read_csv(URL, storage_options = {'User-Agent': 'Mozilla/5.0'})\n",
    "read_table.head()"
   ]
  },
  {
   "cell_type": "markdown",
   "id": "17f308a9",
   "metadata": {},
   "source": [
    "## Reading tables from HTML\n",
    "\n",
    "You can use pandas to find tables on a HTML website using pd.read_html. For more examples, see the web scraping templates from Gryphon."
   ]
  },
  {
   "cell_type": "code",
   "execution_count": 29,
   "id": "10ba6da6",
   "metadata": {},
   "outputs": [
    {
     "data": {
      "text/html": [
       "<div>\n",
       "<style scoped>\n",
       "    .dataframe tbody tr th:only-of-type {\n",
       "        vertical-align: middle;\n",
       "    }\n",
       "\n",
       "    .dataframe tbody tr th {\n",
       "        vertical-align: top;\n",
       "    }\n",
       "\n",
       "    .dataframe thead th {\n",
       "        text-align: right;\n",
       "    }\n",
       "</style>\n",
       "<table border=\"1\" class=\"dataframe\">\n",
       "  <thead>\n",
       "    <tr style=\"text-align: right;\">\n",
       "      <th></th>\n",
       "      <th>0</th>\n",
       "      <th>1</th>\n",
       "    </tr>\n",
       "  </thead>\n",
       "  <tbody>\n",
       "    <tr>\n",
       "      <th>0</th>\n",
       "      <td>Cricket World Cup Trophy</td>\n",
       "      <td>Cricket World Cup Trophy</td>\n",
       "    </tr>\n",
       "    <tr>\n",
       "      <th>1</th>\n",
       "      <td>Administrator</td>\n",
       "      <td>International Cricket Council (ICC)</td>\n",
       "    </tr>\n",
       "    <tr>\n",
       "      <th>2</th>\n",
       "      <td>Format</td>\n",
       "      <td>One Day International</td>\n",
       "    </tr>\n",
       "    <tr>\n",
       "      <th>3</th>\n",
       "      <td>First edition</td>\n",
       "      <td>1975 England</td>\n",
       "    </tr>\n",
       "    <tr>\n",
       "      <th>4</th>\n",
       "      <td>Latest edition</td>\n",
       "      <td>2019 England &amp; Wales</td>\n",
       "    </tr>\n",
       "    <tr>\n",
       "      <th>5</th>\n",
       "      <td>Next edition</td>\n",
       "      <td>2023 India</td>\n",
       "    </tr>\n",
       "    <tr>\n",
       "      <th>6</th>\n",
       "      <td>Tournament format</td>\n",
       "      <td>↓various</td>\n",
       "    </tr>\n",
       "    <tr>\n",
       "      <th>7</th>\n",
       "      <td>Number of teams</td>\n",
       "      <td>10 [1] (14 from 2027)</td>\n",
       "    </tr>\n",
       "    <tr>\n",
       "      <th>8</th>\n",
       "      <td>Current champion</td>\n",
       "      <td>England (1st title)</td>\n",
       "    </tr>\n",
       "    <tr>\n",
       "      <th>9</th>\n",
       "      <td>Most successful</td>\n",
       "      <td>Australia (5 titles)</td>\n",
       "    </tr>\n",
       "    <tr>\n",
       "      <th>10</th>\n",
       "      <td>Most runs</td>\n",
       "      <td>Sachin Tendulkar (2,278)[2]</td>\n",
       "    </tr>\n",
       "    <tr>\n",
       "      <th>11</th>\n",
       "      <td>Most wickets</td>\n",
       "      <td>Glenn McGrath (71)[3]</td>\n",
       "    </tr>\n",
       "    <tr>\n",
       "      <th>12</th>\n",
       "      <td>Website</td>\n",
       "      <td>cricketworldcup.com</td>\n",
       "    </tr>\n",
       "  </tbody>\n",
       "</table>\n",
       "</div>"
      ],
      "text/plain": [
       "                           0                                    1\n",
       "0   Cricket World Cup Trophy             Cricket World Cup Trophy\n",
       "1              Administrator  International Cricket Council (ICC)\n",
       "2                     Format                One Day International\n",
       "3              First edition                         1975 England\n",
       "4             Latest edition                 2019 England & Wales\n",
       "5               Next edition                           2023 India\n",
       "6          Tournament format                             ↓various\n",
       "7            Number of teams                10 [1] (14 from 2027)\n",
       "8           Current champion                  England (1st title)\n",
       "9            Most successful                 Australia (5 titles)\n",
       "10                 Most runs          Sachin Tendulkar (2,278)[2]\n",
       "11              Most wickets                Glenn McGrath (71)[3]\n",
       "12                   Website                  cricketworldcup.com"
      ]
     },
     "execution_count": 29,
     "metadata": {},
     "output_type": "execute_result"
    }
   ],
   "source": [
    "URL = \"https://en.wikipedia.org/wiki/Cricket_World_Cup\"\n",
    "tables = pd.read_html(URL)\n",
    "tables[0]"
   ]
  },
  {
   "cell_type": "code",
   "execution_count": null,
   "id": "9b89e8f4",
   "metadata": {},
   "outputs": [],
   "source": []
  }
 ],
 "metadata": {
  "kernelspec": {
   "display_name": "Python 3 (ipykernel)",
   "language": "python",
   "name": "python3"
  },
  "language_info": {
   "codemirror_mode": {
    "name": "ipython",
    "version": 3
   },
   "file_extension": ".py",
   "mimetype": "text/x-python",
   "name": "python",
   "nbconvert_exporter": "python",
   "pygments_lexer": "ipython3",
   "version": "3.9.5"
  },
  "toc": {
   "base_numbering": 1,
   "nav_menu": {
    "height": "107px",
    "width": "438px"
   },
   "number_sections": true,
   "sideBar": true,
   "skip_h1_title": false,
   "title_cell": "Table of Contents",
   "title_sidebar": "Contents",
   "toc_cell": false,
   "toc_position": {
    "height": "calc(100% - 180px)",
    "left": "10px",
    "top": "150px",
    "width": "239px"
   },
   "toc_section_display": true,
   "toc_window_display": true
  }
 },
 "nbformat": 4,
 "nbformat_minor": 5
}
